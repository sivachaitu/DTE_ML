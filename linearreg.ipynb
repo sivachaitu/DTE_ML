{
 "cells": [
  {
   "cell_type": "code",
   "execution_count": 238,
   "id": "395e7e3b",
   "metadata": {},
   "outputs": [],
   "source": [
    "import quandl\n",
    "import pandas as pd\n",
    "import math\n",
    "import numpy as np\n",
    "from sklearn import preprocessing, svm, model_selection\n",
    "from sklearn.linear_model import LinearRegression\n"
   ]
  },
  {
   "cell_type": "code",
   "execution_count": 239,
   "id": "cf1502c1",
   "metadata": {},
   "outputs": [],
   "source": [
    "df = quandl.get(\"EOD/HD\", authtoken=\"YDkkGsZnZYV4jyxNANZ1\")"
   ]
  },
  {
   "cell_type": "code",
   "execution_count": 240,
   "id": "786df1d2",
   "metadata": {},
   "outputs": [
    {
     "name": "stdout",
     "output_type": "stream",
     "text": [
      "             Open   High    Low  Close      Volume  Dividend  Split  \\\n",
      "Date                                                                  \n",
      "2013-09-03  74.83  75.25  73.68  73.90   7802800.0      0.39    1.0   \n",
      "2013-09-04  73.98  74.51  73.74  74.14   8271600.0      0.00    1.0   \n",
      "2013-09-05  74.07  74.21  72.84  72.99  11039000.0      0.00    1.0   \n",
      "2013-09-06  73.55  73.56  72.21  72.70   9968400.0      0.00    1.0   \n",
      "2013-09-09  72.98  73.79  72.90  73.58   5781800.0      0.00    1.0   \n",
      "\n",
      "             Adj_Open   Adj_High    Adj_Low  Adj_Close  Adj_Volume  \n",
      "Date                                                                \n",
      "2013-09-03  62.854838  63.207625  61.888874  62.073667   7802800.0  \n",
      "2013-09-04  62.140865  62.586048  61.939272  62.275260   8271600.0  \n",
      "2013-09-05  62.216462  62.334058  61.183301  61.309296  11039000.0  \n",
      "2013-09-06  61.779678  61.788078  60.654121  61.065705   9968400.0  \n",
      "2013-09-09  61.300896  61.981271  61.233699  61.804878   5781800.0  \n"
     ]
    }
   ],
   "source": [
    "print(df.head())"
   ]
  },
  {
   "cell_type": "code",
   "execution_count": 241,
   "id": "f8ec5078",
   "metadata": {},
   "outputs": [],
   "source": [
    "df = df[['Adj_Open','Adj_High','Adj_Low','Adj_Close','Adj_Volume']]"
   ]
  },
  {
   "cell_type": "code",
   "execution_count": 242,
   "id": "9207f9bf",
   "metadata": {},
   "outputs": [
    {
     "data": {
      "text/html": [
       "<div>\n",
       "<style scoped>\n",
       "    .dataframe tbody tr th:only-of-type {\n",
       "        vertical-align: middle;\n",
       "    }\n",
       "\n",
       "    .dataframe tbody tr th {\n",
       "        vertical-align: top;\n",
       "    }\n",
       "\n",
       "    .dataframe thead th {\n",
       "        text-align: right;\n",
       "    }\n",
       "</style>\n",
       "<table border=\"1\" class=\"dataframe\">\n",
       "  <thead>\n",
       "    <tr style=\"text-align: right;\">\n",
       "      <th></th>\n",
       "      <th>Adj_Open</th>\n",
       "      <th>Adj_High</th>\n",
       "      <th>Adj_Low</th>\n",
       "      <th>Adj_Close</th>\n",
       "      <th>Adj_Volume</th>\n",
       "    </tr>\n",
       "    <tr>\n",
       "      <th>Date</th>\n",
       "      <th></th>\n",
       "      <th></th>\n",
       "      <th></th>\n",
       "      <th></th>\n",
       "      <th></th>\n",
       "    </tr>\n",
       "  </thead>\n",
       "  <tbody>\n",
       "    <tr>\n",
       "      <th>2013-09-03</th>\n",
       "      <td>62.854838</td>\n",
       "      <td>63.207625</td>\n",
       "      <td>61.888874</td>\n",
       "      <td>62.073667</td>\n",
       "      <td>7802800.0</td>\n",
       "    </tr>\n",
       "    <tr>\n",
       "      <th>2013-09-04</th>\n",
       "      <td>62.140865</td>\n",
       "      <td>62.586048</td>\n",
       "      <td>61.939272</td>\n",
       "      <td>62.275260</td>\n",
       "      <td>8271600.0</td>\n",
       "    </tr>\n",
       "    <tr>\n",
       "      <th>2013-09-05</th>\n",
       "      <td>62.216462</td>\n",
       "      <td>62.334058</td>\n",
       "      <td>61.183301</td>\n",
       "      <td>61.309296</td>\n",
       "      <td>11039000.0</td>\n",
       "    </tr>\n",
       "    <tr>\n",
       "      <th>2013-09-06</th>\n",
       "      <td>61.779678</td>\n",
       "      <td>61.788078</td>\n",
       "      <td>60.654121</td>\n",
       "      <td>61.065705</td>\n",
       "      <td>9968400.0</td>\n",
       "    </tr>\n",
       "    <tr>\n",
       "      <th>2013-09-09</th>\n",
       "      <td>61.300896</td>\n",
       "      <td>61.981271</td>\n",
       "      <td>61.233699</td>\n",
       "      <td>61.804878</td>\n",
       "      <td>5781800.0</td>\n",
       "    </tr>\n",
       "  </tbody>\n",
       "</table>\n",
       "</div>"
      ],
      "text/plain": [
       "             Adj_Open   Adj_High    Adj_Low  Adj_Close  Adj_Volume\n",
       "Date                                                              \n",
       "2013-09-03  62.854838  63.207625  61.888874  62.073667   7802800.0\n",
       "2013-09-04  62.140865  62.586048  61.939272  62.275260   8271600.0\n",
       "2013-09-05  62.216462  62.334058  61.183301  61.309296  11039000.0\n",
       "2013-09-06  61.779678  61.788078  60.654121  61.065705   9968400.0\n",
       "2013-09-09  61.300896  61.981271  61.233699  61.804878   5781800.0"
      ]
     },
     "execution_count": 242,
     "metadata": {},
     "output_type": "execute_result"
    }
   ],
   "source": [
    "df.head()"
   ]
  },
  {
   "cell_type": "code",
   "execution_count": 243,
   "id": "ecc56a0e",
   "metadata": {},
   "outputs": [],
   "source": [
    "df['HL_PCT'] = ((df['Adj_High']-df['Adj_Close'])/df['Adj_Close'])*100\n",
    "df['DAY_PCT'] = ((df['Adj_Close']-df['Adj_Open'])/df['Adj_Open'])*100"
   ]
  },
  {
   "cell_type": "code",
   "execution_count": 244,
   "id": "587f2a01",
   "metadata": {},
   "outputs": [
    {
     "data": {
      "text/html": [
       "<div>\n",
       "<style scoped>\n",
       "    .dataframe tbody tr th:only-of-type {\n",
       "        vertical-align: middle;\n",
       "    }\n",
       "\n",
       "    .dataframe tbody tr th {\n",
       "        vertical-align: top;\n",
       "    }\n",
       "\n",
       "    .dataframe thead th {\n",
       "        text-align: right;\n",
       "    }\n",
       "</style>\n",
       "<table border=\"1\" class=\"dataframe\">\n",
       "  <thead>\n",
       "    <tr style=\"text-align: right;\">\n",
       "      <th></th>\n",
       "      <th>Adj_Open</th>\n",
       "      <th>Adj_High</th>\n",
       "      <th>Adj_Low</th>\n",
       "      <th>Adj_Close</th>\n",
       "      <th>Adj_Volume</th>\n",
       "      <th>HL_PCT</th>\n",
       "      <th>DAY_PCT</th>\n",
       "    </tr>\n",
       "    <tr>\n",
       "      <th>Date</th>\n",
       "      <th></th>\n",
       "      <th></th>\n",
       "      <th></th>\n",
       "      <th></th>\n",
       "      <th></th>\n",
       "      <th></th>\n",
       "      <th></th>\n",
       "    </tr>\n",
       "  </thead>\n",
       "  <tbody>\n",
       "    <tr>\n",
       "      <th>2013-09-03</th>\n",
       "      <td>62.854838</td>\n",
       "      <td>63.207625</td>\n",
       "      <td>61.888874</td>\n",
       "      <td>62.073667</td>\n",
       "      <td>7802800.0</td>\n",
       "      <td>1.826793</td>\n",
       "      <td>-1.242817</td>\n",
       "    </tr>\n",
       "    <tr>\n",
       "      <th>2013-09-04</th>\n",
       "      <td>62.140865</td>\n",
       "      <td>62.586048</td>\n",
       "      <td>61.939272</td>\n",
       "      <td>62.275260</td>\n",
       "      <td>8271600.0</td>\n",
       "      <td>0.499056</td>\n",
       "      <td>0.216275</td>\n",
       "    </tr>\n",
       "    <tr>\n",
       "      <th>2013-09-05</th>\n",
       "      <td>62.216462</td>\n",
       "      <td>62.334058</td>\n",
       "      <td>61.183301</td>\n",
       "      <td>61.309296</td>\n",
       "      <td>11039000.0</td>\n",
       "      <td>1.671462</td>\n",
       "      <td>-1.458080</td>\n",
       "    </tr>\n",
       "    <tr>\n",
       "      <th>2013-09-06</th>\n",
       "      <td>61.779678</td>\n",
       "      <td>61.788078</td>\n",
       "      <td>60.654121</td>\n",
       "      <td>61.065705</td>\n",
       "      <td>9968400.0</td>\n",
       "      <td>1.182944</td>\n",
       "      <td>-1.155676</td>\n",
       "    </tr>\n",
       "    <tr>\n",
       "      <th>2013-09-09</th>\n",
       "      <td>61.300896</td>\n",
       "      <td>61.981271</td>\n",
       "      <td>61.233699</td>\n",
       "      <td>61.804878</td>\n",
       "      <td>5781800.0</td>\n",
       "      <td>0.285404</td>\n",
       "      <td>0.822143</td>\n",
       "    </tr>\n",
       "  </tbody>\n",
       "</table>\n",
       "</div>"
      ],
      "text/plain": [
       "             Adj_Open   Adj_High    Adj_Low  Adj_Close  Adj_Volume    HL_PCT  \\\n",
       "Date                                                                           \n",
       "2013-09-03  62.854838  63.207625  61.888874  62.073667   7802800.0  1.826793   \n",
       "2013-09-04  62.140865  62.586048  61.939272  62.275260   8271600.0  0.499056   \n",
       "2013-09-05  62.216462  62.334058  61.183301  61.309296  11039000.0  1.671462   \n",
       "2013-09-06  61.779678  61.788078  60.654121  61.065705   9968400.0  1.182944   \n",
       "2013-09-09  61.300896  61.981271  61.233699  61.804878   5781800.0  0.285404   \n",
       "\n",
       "             DAY_PCT  \n",
       "Date                  \n",
       "2013-09-03 -1.242817  \n",
       "2013-09-04  0.216275  \n",
       "2013-09-05 -1.458080  \n",
       "2013-09-06 -1.155676  \n",
       "2013-09-09  0.822143  "
      ]
     },
     "execution_count": 244,
     "metadata": {},
     "output_type": "execute_result"
    }
   ],
   "source": [
    "df.head()"
   ]
  },
  {
   "cell_type": "code",
   "execution_count": 245,
   "id": "826fc3d1",
   "metadata": {},
   "outputs": [
    {
     "data": {
      "text/html": [
       "<div>\n",
       "<style scoped>\n",
       "    .dataframe tbody tr th:only-of-type {\n",
       "        vertical-align: middle;\n",
       "    }\n",
       "\n",
       "    .dataframe tbody tr th {\n",
       "        vertical-align: top;\n",
       "    }\n",
       "\n",
       "    .dataframe thead th {\n",
       "        text-align: right;\n",
       "    }\n",
       "</style>\n",
       "<table border=\"1\" class=\"dataframe\">\n",
       "  <thead>\n",
       "    <tr style=\"text-align: right;\">\n",
       "      <th></th>\n",
       "      <th>Adj_Close</th>\n",
       "      <th>HL_PCT</th>\n",
       "      <th>DAY_PCT</th>\n",
       "      <th>Adj_Volume</th>\n",
       "    </tr>\n",
       "    <tr>\n",
       "      <th>Date</th>\n",
       "      <th></th>\n",
       "      <th></th>\n",
       "      <th></th>\n",
       "      <th></th>\n",
       "    </tr>\n",
       "  </thead>\n",
       "  <tbody>\n",
       "    <tr>\n",
       "      <th>2013-09-03</th>\n",
       "      <td>62.073667</td>\n",
       "      <td>1.826793</td>\n",
       "      <td>-1.242817</td>\n",
       "      <td>7802800.0</td>\n",
       "    </tr>\n",
       "    <tr>\n",
       "      <th>2013-09-04</th>\n",
       "      <td>62.275260</td>\n",
       "      <td>0.499056</td>\n",
       "      <td>0.216275</td>\n",
       "      <td>8271600.0</td>\n",
       "    </tr>\n",
       "    <tr>\n",
       "      <th>2013-09-05</th>\n",
       "      <td>61.309296</td>\n",
       "      <td>1.671462</td>\n",
       "      <td>-1.458080</td>\n",
       "      <td>11039000.0</td>\n",
       "    </tr>\n",
       "    <tr>\n",
       "      <th>2013-09-06</th>\n",
       "      <td>61.065705</td>\n",
       "      <td>1.182944</td>\n",
       "      <td>-1.155676</td>\n",
       "      <td>9968400.0</td>\n",
       "    </tr>\n",
       "    <tr>\n",
       "      <th>2013-09-09</th>\n",
       "      <td>61.804878</td>\n",
       "      <td>0.285404</td>\n",
       "      <td>0.822143</td>\n",
       "      <td>5781800.0</td>\n",
       "    </tr>\n",
       "  </tbody>\n",
       "</table>\n",
       "</div>"
      ],
      "text/plain": [
       "            Adj_Close    HL_PCT   DAY_PCT  Adj_Volume\n",
       "Date                                                 \n",
       "2013-09-03  62.073667  1.826793 -1.242817   7802800.0\n",
       "2013-09-04  62.275260  0.499056  0.216275   8271600.0\n",
       "2013-09-05  61.309296  1.671462 -1.458080  11039000.0\n",
       "2013-09-06  61.065705  1.182944 -1.155676   9968400.0\n",
       "2013-09-09  61.804878  0.285404  0.822143   5781800.0"
      ]
     },
     "execution_count": 245,
     "metadata": {},
     "output_type": "execute_result"
    }
   ],
   "source": [
    "df =df[['Adj_Close','HL_PCT','DAY_PCT','Adj_Volume']] # Get rid of alluseless data\n",
    "df.head()"
   ]
  },
  {
   "cell_type": "code",
   "execution_count": 246,
   "id": "baec5b75",
   "metadata": {},
   "outputs": [
    {
     "name": "stdout",
     "output_type": "stream",
     "text": [
      "11\n"
     ]
    }
   ],
   "source": [
    "predict_offset = int(math.ceil(0.01*len(df))) # this number decides how far into future are we pridicting\n",
    "prediction_col = 'Adj_Close'\n",
    "print(predict_offset)"
   ]
  },
  {
   "cell_type": "code",
   "execution_count": 247,
   "id": "f5a5e589",
   "metadata": {},
   "outputs": [],
   "source": [
    "df['label'] = df[prediction_col].shift(-predict_offset)"
   ]
  },
  {
   "cell_type": "code",
   "execution_count": 248,
   "id": "a39a7209",
   "metadata": {},
   "outputs": [
    {
     "data": {
      "text/plain": [
       "<bound method NDFrame.head of              Adj_Close    HL_PCT   DAY_PCT  Adj_Volume      label\n",
       "Date                                                             \n",
       "2013-09-03   62.073667  1.826793 -1.242817   7802800.0  64.988358\n",
       "2013-09-04   62.275260  0.499056  0.216275   8271600.0  65.945922\n",
       "2013-09-05   61.309296  1.671462 -1.458080  11039000.0  64.677570\n",
       "2013-09-06   61.065705  1.182944 -1.155676   9968400.0  63.762004\n",
       "2013-09-09   61.804878  0.285404  0.822143   5781800.0  63.871200\n",
       "...                ...       ...       ...         ...        ...\n",
       "2017-12-21  172.924169  0.404083  0.202451   5859058.0        NaN\n",
       "2017-12-22  172.970140  0.175411 -0.037194   3256519.0        NaN\n",
       "2017-12-26  175.020443  0.031519  0.970668   2969182.0        NaN\n",
       "2017-12-27  174.864142  0.683527 -0.215110   5912613.0        NaN\n",
       "2017-12-28  174.487180  0.632311 -0.591902   3175631.0        NaN\n",
       "\n",
       "[1090 rows x 5 columns]>"
      ]
     },
     "execution_count": 248,
     "metadata": {},
     "output_type": "execute_result"
    }
   ],
   "source": [
    "df.head #so here we ar basically fetching close prices from 11 days into future and defining it as lable for today and we will be predicting close price of a day 11 days future as well"
   ]
  },
  {
   "cell_type": "markdown",
   "id": "8acba204",
   "metadata": {},
   "source": [
    "since lables from now are shifter into 11 days into past there are some NaN lablesin present"
   ]
  },
  {
   "cell_type": "code",
   "execution_count": 249,
   "id": "034a3f16",
   "metadata": {},
   "outputs": [],
   "source": [
    "df.dropna(inplace = True)"
   ]
  },
  {
   "cell_type": "code",
   "execution_count": 250,
   "id": "a37c5575",
   "metadata": {},
   "outputs": [
    {
     "data": {
      "text/html": [
       "<div>\n",
       "<style scoped>\n",
       "    .dataframe tbody tr th:only-of-type {\n",
       "        vertical-align: middle;\n",
       "    }\n",
       "\n",
       "    .dataframe tbody tr th {\n",
       "        vertical-align: top;\n",
       "    }\n",
       "\n",
       "    .dataframe thead th {\n",
       "        text-align: right;\n",
       "    }\n",
       "</style>\n",
       "<table border=\"1\" class=\"dataframe\">\n",
       "  <thead>\n",
       "    <tr style=\"text-align: right;\">\n",
       "      <th></th>\n",
       "      <th>Adj_Close</th>\n",
       "      <th>HL_PCT</th>\n",
       "      <th>DAY_PCT</th>\n",
       "      <th>Adj_Volume</th>\n",
       "      <th>label</th>\n",
       "    </tr>\n",
       "    <tr>\n",
       "      <th>Date</th>\n",
       "      <th></th>\n",
       "      <th></th>\n",
       "      <th></th>\n",
       "      <th></th>\n",
       "      <th></th>\n",
       "    </tr>\n",
       "  </thead>\n",
       "  <tbody>\n",
       "    <tr>\n",
       "      <th>2013-09-03</th>\n",
       "      <td>62.073667</td>\n",
       "      <td>1.826793</td>\n",
       "      <td>-1.242817</td>\n",
       "      <td>7802800.0</td>\n",
       "      <td>64.988358</td>\n",
       "    </tr>\n",
       "    <tr>\n",
       "      <th>2013-09-04</th>\n",
       "      <td>62.275260</td>\n",
       "      <td>0.499056</td>\n",
       "      <td>0.216275</td>\n",
       "      <td>8271600.0</td>\n",
       "      <td>65.945922</td>\n",
       "    </tr>\n",
       "    <tr>\n",
       "      <th>2013-09-05</th>\n",
       "      <td>61.309296</td>\n",
       "      <td>1.671462</td>\n",
       "      <td>-1.458080</td>\n",
       "      <td>11039000.0</td>\n",
       "      <td>64.677570</td>\n",
       "    </tr>\n",
       "    <tr>\n",
       "      <th>2013-09-06</th>\n",
       "      <td>61.065705</td>\n",
       "      <td>1.182944</td>\n",
       "      <td>-1.155676</td>\n",
       "      <td>9968400.0</td>\n",
       "      <td>63.762004</td>\n",
       "    </tr>\n",
       "    <tr>\n",
       "      <th>2013-09-09</th>\n",
       "      <td>61.804878</td>\n",
       "      <td>0.285404</td>\n",
       "      <td>0.822143</td>\n",
       "      <td>5781800.0</td>\n",
       "      <td>63.871200</td>\n",
       "    </tr>\n",
       "  </tbody>\n",
       "</table>\n",
       "</div>"
      ],
      "text/plain": [
       "            Adj_Close    HL_PCT   DAY_PCT  Adj_Volume      label\n",
       "Date                                                            \n",
       "2013-09-03  62.073667  1.826793 -1.242817   7802800.0  64.988358\n",
       "2013-09-04  62.275260  0.499056  0.216275   8271600.0  65.945922\n",
       "2013-09-05  61.309296  1.671462 -1.458080  11039000.0  64.677570\n",
       "2013-09-06  61.065705  1.182944 -1.155676   9968400.0  63.762004\n",
       "2013-09-09  61.804878  0.285404  0.822143   5781800.0  63.871200"
      ]
     },
     "execution_count": 250,
     "metadata": {},
     "output_type": "execute_result"
    }
   ],
   "source": [
    "df.head()"
   ]
  },
  {
   "cell_type": "code",
   "execution_count": 251,
   "id": "d441b163",
   "metadata": {},
   "outputs": [],
   "source": [
    "X = preprocessing.scale(np.array(df.drop(['label'],1)))# scaling data so that the data is in range(-1,1) helps in accuracy and training time\n",
    "y = np.array(df['label'])"
   ]
  },
  {
   "cell_type": "code",
   "execution_count": 252,
   "id": "2064ed67",
   "metadata": {},
   "outputs": [
    {
     "data": {
      "text/plain": [
       "array([[-1.5559049 ,  1.78372482, -1.36613676,  1.0445421 ],\n",
       "       [-1.54836059, -0.31123899,  0.19015735,  1.25021977],\n",
       "       [-1.58451043,  1.53863634, -1.59574039,  2.46436737],\n",
       "       ...,\n",
       "       [ 2.43183549, -0.67713317,  0.4913229 , -0.14497596],\n",
       "       [ 2.39192228, -0.4839832 , -0.41958587,  0.27065835],\n",
       "       [ 2.3764387 ,  0.12506951, -0.59499168, -0.06451378]])"
      ]
     },
     "execution_count": 252,
     "metadata": {},
     "output_type": "execute_result"
    }
   ],
   "source": [
    "X"
   ]
  },
  {
   "cell_type": "code",
   "execution_count": 253,
   "id": "c369b9c0",
   "metadata": {},
   "outputs": [],
   "source": [
    "X_train , X_test , y_train , y_test = model_selection.train_test_split(X , y , test_size = 0.2)"
   ]
  },
  {
   "cell_type": "code",
   "execution_count": 256,
   "id": "bfb8ad3b",
   "metadata": {},
   "outputs": [
    {
     "data": {
      "text/plain": [
       "0.9854600641218598"
      ]
     },
     "execution_count": 256,
     "metadata": {},
     "output_type": "execute_result"
    }
   ],
   "source": [
    "clf = LinearRegression (n_jobs = -1) #n_jobs is an attribute we can decide how many threads are used for the training -1 means as many as possible\n",
    "clf.fit(X_train , y_train)\n",
    "accuracy = clf.score(X_test,y_test)\n",
    "accuracy #this is basically squared error"
   ]
  },
  {
   "cell_type": "markdown",
   "id": "e4cfc933",
   "metadata": {},
   "source": [
    "# instead of using linear trying svm"
   ]
  },
  {
   "cell_type": "code",
   "execution_count": 237,
   "id": "64a4bdf1",
   "metadata": {},
   "outputs": [
    {
     "data": {
      "text/plain": [
       "0.9387934763585375"
      ]
     },
     "execution_count": 237,
     "metadata": {},
     "output_type": "execute_result"
    }
   ],
   "source": [
    "clf = svm.SVR()\n",
    "clf.fit(X_train , y_train)\n",
    "accuracy = clf.score(X_test,y_test)\n",
    "accuracy"
   ]
  }
 ],
 "metadata": {
  "kernelspec": {
   "display_name": "Python 3",
   "language": "python",
   "name": "python3"
  },
  "language_info": {
   "codemirror_mode": {
    "name": "ipython",
    "version": 3
   },
   "file_extension": ".py",
   "mimetype": "text/x-python",
   "name": "python",
   "nbconvert_exporter": "python",
   "pygments_lexer": "ipython3",
   "version": "3.8.8"
  }
 },
 "nbformat": 4,
 "nbformat_minor": 5
}
